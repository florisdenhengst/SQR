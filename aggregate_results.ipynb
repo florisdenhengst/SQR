{
 "cells": [
  {
   "cell_type": "code",
   "execution_count": 1,
   "id": "0504557f",
   "metadata": {},
   "outputs": [],
   "source": [
    "import numpy as np\n",
    "import pandas as pd"
   ]
  },
  {
   "cell_type": "code",
   "execution_count": 2,
   "id": "a719faec",
   "metadata": {},
   "outputs": [],
   "source": [
    "data_list = [\n",
    "    \"1027_ESL\",\n",
    "    \"1028_SWD\",\n",
    "    \"1029_LEV\",\n",
    "    \"1030_ERA\",\n",
    "    \"1089_USCrime\",\n",
    "    \"1096_FacultySalaries\",\n",
    "    \"1191_BNG_pbc\",\n",
    "    \"1193_BNG_lowbwt\",\n",
    "    \"1196_BNG_pharynx\",\n",
    "    \"1199_BNG_echoMonths\",\n",
    "    \"1201_BNG_breastTumor\",\n",
    "    \"192_vineyard\",\n",
    "    \"195_auto_price\",\n",
    "    \"197_cpu_act\",\n",
    "    \"201_pol\",\n",
    "    \"207_autoPrice\",\n",
    "    \"210_cloud\",\n",
    "    \"215_2dplanes\",\n",
    "    \"218_house_8L\",\n",
    "    \"225_puma8NH\",\n",
    "    \"227_cpu_small\",\n",
    "    \"228_elusage\",\n",
    "    \"229_pwLinear\",\n",
    "    \"230_machine_cpu\",\n",
    "    \"294_satellite_image\",\n",
    "    \"344_mv\",\n",
    "    \"4544_GeographicalOriginalofMusic\",\n",
    "    \"485_analcatdata_vehicle\",\n",
    "    \"503_wind\",\n",
    "    \"505_tecator\",\n",
    "    \"519_vinnie\",\n",
    "    \"522_pm10\",\n",
    "    \"523_analcatdata_neavote\",\n",
    "    \"527_analcatdata_election2000\",\n",
    "    \"529_pollen\",\n",
    "    \"537_houses\",\n",
    "    \"542_pollution\",\n",
    "    \"547_no2\",\n",
    "    \"556_analcatdata_apnea2\",\n",
    "    \"557_analcatdata_apnea1\",\n",
    "    \"560_bodyfat\",\n",
    "    \"561_cpu\",\n",
    "    \"562_cpu_small\",\n",
    "    \"564_fried\",\n",
    "    \"573_cpu_act\",\n",
    "    \"574_house_16H\",\n",
    "    \"579_fri_c0_250_5\",\n",
    "    \"581_fri_c3_500_25\",\n",
    "    \"582_fri_c1_500_25\",\n",
    "    \"583_fri_c1_1000_50\",\n",
    "    \"584_fri_c4_500_25\",\n",
    "    \"586_fri_c3_1000_25\",\n",
    "    \"588_fri_c4_1000_100\",\n",
    "    \"589_fri_c2_1000_25\",\n",
    "    \"590_fri_c0_1000_50\",\n",
    "    \"591_fri_c1_100_10\",\n",
    "    \"592_fri_c4_1000_25\",\n",
    "    \"593_fri_c1_1000_10\",\n",
    "    \"594_fri_c2_100_5\",\n",
    "    \"595_fri_c0_1000_10\",\n",
    "    \"596_fri_c2_250_5\",\n",
    "    \"597_fri_c2_500_5\",\n",
    "    \"598_fri_c0_1000_25\",\n",
    "    \"599_fri_c2_1000_5\",\n",
    "    \"601_fri_c1_250_5\",\n",
    "    \"602_fri_c3_250_10\",\n",
    "    \"603_fri_c0_250_50\",\n",
    "    \"604_fri_c4_500_10\",\n",
    "    \"605_fri_c2_250_25\",\n",
    "    \"606_fri_c2_1000_10\",\n",
    "    \"607_fri_c4_1000_50\",\n",
    "    \"608_fri_c3_1000_10\",\n",
    "    \"609_fri_c0_1000_5\",\n",
    "    \"611_fri_c3_100_5\",\n",
    "    \"612_fri_c1_1000_5\",\n",
    "    \"613_fri_c3_250_5\",\n",
    "    \"615_fri_c4_250_10\",\n",
    "    \"616_fri_c4_500_50\",\n",
    "    \"617_fri_c3_500_5\",\n",
    "    \"618_fri_c3_1000_50\",\n",
    "    \"620_fri_c1_1000_25\",\n",
    "    \"621_fri_c0_100_10\",\n",
    "    \"622_fri_c2_1000_50\",\n",
    "    \"623_fri_c4_1000_10\",\n",
    "    \"624_fri_c0_100_5\",\n",
    "    \"626_fri_c2_500_50\",\n",
    "    \"627_fri_c2_500_10\",\n",
    "    \"628_fri_c3_1000_5\",\n",
    "    \"631_fri_c1_500_5\",\n",
    "    \"633_fri_c0_500_25\",\n",
    "    \"634_fri_c2_100_10\",\n",
    "    \"635_fri_c0_250_10\",\n",
    "    \"637_fri_c1_500_50\",\n",
    "    \"641_fri_c1_500_10\",\n",
    "    \"643_fri_c2_500_25\",\n",
    "    \"644_fri_c4_250_25\",\n",
    "    \"645_fri_c3_500_50\",\n",
    "    \"646_fri_c3_500_10\",\n",
    "    \"647_fri_c1_250_10\",\n",
    "    \"648_fri_c1_250_50\",\n",
    "    \"649_fri_c0_500_5\",\n",
    "    \"650_fri_c0_500_50\",\n",
    "    \"651_fri_c0_100_25\",\n",
    "    \"653_fri_c0_250_25\",\n",
    "    \"654_fri_c0_500_10\",\n",
    "    \"656_fri_c1_100_5\",\n",
    "    \"657_fri_c2_250_10\",\n",
    "    \"658_fri_c3_250_25\",\n",
    "    \"659_sleuth_ex1714\",\n",
    "    \"663_rabe_266\",\n",
    "    \"665_sleuth_case2002\",\n",
    "    \"666_rmftsa_ladata\",\n",
    "    \"678_visualizing_environmental\",\n",
    "    \"687_sleuth_ex1605\",\n",
    "    \"690_visualizing_galaxy\",\n",
    "    \"695_chatfield_4\",\n",
    "    \"706_sleuth_case1202\",\n",
    "    \"712_chscase_geyser1\",\n",
    "    \"banana\",\n",
    "    \"titanic\"\n",
    "]"
   ]
  },
  {
   "cell_type": "code",
   "execution_count": 46,
   "id": "50e4d6b3",
   "metadata": {},
   "outputs": [],
   "source": [
    "import os\n",
    "import json\n",
    "import pandas as pd\n",
    "\n",
    "def load_jsons_to_long_df(directory):\n",
    "    records = []\n",
    "\n",
    "    for filename in os.listdir(directory):\n",
    "        if filename.endswith('.json'):\n",
    "            filepath = os.path.join(directory, filename)\n",
    "            with open(filepath, 'r') as f:\n",
    "                data = json.load(f)\n",
    "\n",
    "            for model, model_data in data.items():\n",
    "                tau = model_data.get('tau')\n",
    "                for metric, metric_data in model_data.items():\n",
    "                    if metric == 'tau':\n",
    "                        continue\n",
    "                    for dataset, values in metric_data.items():\n",
    "                        for run_idx, value in enumerate(values):\n",
    "                            records.append({\n",
    "                                'filename': filename,\n",
    "                                'model': model,\n",
    "                                'tau': tau,\n",
    "                                'metric': metric,\n",
    "                                'dataset': dataset,\n",
    "                                'run': run_idx,\n",
    "                                'value': value\n",
    "                            })\n",
    "\n",
    "    df = pd.DataFrame.from_records(records)\n",
    "    return df\n",
    "\n",
    "# Example usage:\n",
    "directory = 'results/'  # Replace with your actual directory path\n",
    "df_long = load_jsons_to_long_df(directory)\n"
   ]
  },
  {
   "cell_type": "code",
   "execution_count": 47,
   "id": "b55b1ed6",
   "metadata": {},
   "outputs": [
    {
     "data": {
      "text/plain": [
       "array([0.5, 0.9])"
      ]
     },
     "execution_count": 47,
     "metadata": {},
     "output_type": "execute_result"
    }
   ],
   "source": [
    "df_long.tau.unique()"
   ]
  },
  {
   "cell_type": "code",
   "execution_count": 48,
   "id": "14bbed27",
   "metadata": {},
   "outputs": [
    {
     "name": "stdout",
     "output_type": "stream",
     "text": [
      "    tau           model    metric     value\n",
      "1   0.5    DecisionTree  coverage  0.087895\n",
      "5   0.5        LightGBM  coverage  0.064430\n",
      "10  0.5  LinearQuantile  coverage  0.065201\n",
      "15  0.5             SQR  coverage  0.082943\n",
      "20  0.9    DecisionTree  coverage  0.066118\n",
      "24  0.9        LightGBM  coverage  0.039402\n",
      "29  0.9  LinearQuantile  coverage  0.286541\n",
      "34  0.9             SQR  coverage  0.049139\n"
     ]
    }
   ],
   "source": [
    "avg_df = df_long.groupby(['tau', 'model', 'metric'])['value'].mean().reset_index()\n",
    "print(avg_df[avg_df.metric == 'coverage'])"
   ]
  },
  {
   "cell_type": "code",
   "execution_count": 49,
   "id": "6f37d133",
   "metadata": {},
   "outputs": [
    {
     "data": {
      "text/plain": [
       "array([0.5, 0.9])"
      ]
     },
     "execution_count": 49,
     "metadata": {},
     "output_type": "execute_result"
    }
   ],
   "source": [
    "avg_df.tau.unique()"
   ]
  },
  {
   "cell_type": "code",
   "execution_count": 50,
   "id": "558b3d84",
   "metadata": {},
   "outputs": [
    {
     "name": "stdout",
     "output_type": "stream",
     "text": [
      "1027_ESL\n",
      "1028_SWD\n",
      "1029_LEV\n",
      "1030_ERA\n",
      "1089_USCrime\n",
      "1096_FacultySalaries\n",
      "1191_BNG_pbc\n",
      "1193_BNG_lowbwt\n",
      "1196_BNG_pharynx\n",
      "1199_BNG_echoMonths\n",
      "1201_BNG_breastTumor\n",
      "192_vineyard\n",
      "195_auto_price\n",
      "Error for 195_auto_price\n",
      "197_cpu_act\n",
      "201_pol\n",
      "207_autoPrice\n",
      "Error for 207_autoPrice\n",
      "210_cloud\n",
      "215_2dplanes\n",
      "218_house_8L\n",
      "225_puma8NH\n",
      "227_cpu_small\n",
      "228_elusage\n",
      "229_pwLinear\n",
      "230_machine_cpu\n",
      "294_satellite_image\n",
      "344_mv\n",
      "4544_GeographicalOriginalofMusic\n",
      "485_analcatdata_vehicle\n",
      "503_wind\n",
      "505_tecator\n",
      "519_vinnie\n",
      "522_pm10\n",
      "523_analcatdata_neavote\n",
      "527_analcatdata_election2000\n",
      "529_pollen\n",
      "537_houses\n",
      "542_pollution\n",
      "547_no2\n",
      "556_analcatdata_apnea2\n",
      "557_analcatdata_apnea1\n",
      "560_bodyfat\n",
      "561_cpu\n",
      "562_cpu_small\n",
      "564_fried\n",
      "573_cpu_act\n",
      "574_house_16H\n",
      "579_fri_c0_250_5\n",
      "581_fri_c3_500_25\n",
      "582_fri_c1_500_25\n",
      "583_fri_c1_1000_50\n",
      "584_fri_c4_500_25\n",
      "586_fri_c3_1000_25\n",
      "588_fri_c4_1000_100\n",
      "589_fri_c2_1000_25\n",
      "590_fri_c0_1000_50\n",
      "591_fri_c1_100_10\n",
      "592_fri_c4_1000_25\n",
      "593_fri_c1_1000_10\n",
      "594_fri_c2_100_5\n",
      "595_fri_c0_1000_10\n",
      "596_fri_c2_250_5\n",
      "597_fri_c2_500_5\n",
      "598_fri_c0_1000_25\n",
      "599_fri_c2_1000_5\n",
      "601_fri_c1_250_5\n",
      "602_fri_c3_250_10\n",
      "603_fri_c0_250_50\n",
      "604_fri_c4_500_10\n",
      "605_fri_c2_250_25\n",
      "606_fri_c2_1000_10\n",
      "607_fri_c4_1000_50\n",
      "608_fri_c3_1000_10\n",
      "609_fri_c0_1000_5\n",
      "611_fri_c3_100_5\n",
      "612_fri_c1_1000_5\n",
      "613_fri_c3_250_5\n",
      "615_fri_c4_250_10\n",
      "616_fri_c4_500_50\n",
      "617_fri_c3_500_5\n",
      "618_fri_c3_1000_50\n",
      "620_fri_c1_1000_25\n",
      "621_fri_c0_100_10\n",
      "622_fri_c2_1000_50\n",
      "623_fri_c4_1000_10\n",
      "624_fri_c0_100_5\n",
      "626_fri_c2_500_50\n",
      "627_fri_c2_500_10\n",
      "628_fri_c3_1000_5\n",
      "631_fri_c1_500_5\n",
      "633_fri_c0_500_25\n",
      "634_fri_c2_100_10\n",
      "635_fri_c0_250_10\n",
      "637_fri_c1_500_50\n",
      "641_fri_c1_500_10\n",
      "643_fri_c2_500_25\n",
      "644_fri_c4_250_25\n",
      "645_fri_c3_500_50\n",
      "646_fri_c3_500_10\n",
      "647_fri_c1_250_10\n",
      "648_fri_c1_250_50\n",
      "649_fri_c0_500_5\n",
      "650_fri_c0_500_50\n",
      "651_fri_c0_100_25\n",
      "653_fri_c0_250_25\n",
      "654_fri_c0_500_10\n",
      "656_fri_c1_100_5\n",
      "657_fri_c2_250_10\n",
      "658_fri_c3_250_25\n",
      "659_sleuth_ex1714\n",
      "663_rabe_266\n",
      "665_sleuth_case2002\n",
      "666_rmftsa_ladata\n",
      "678_visualizing_environmental\n",
      "687_sleuth_ex1605\n",
      "690_visualizing_galaxy\n",
      "695_chatfield_4\n",
      "706_sleuth_case1202\n",
      "712_chscase_geyser1\n",
      "banana\n",
      "titanic\n",
      "{'1027_ESL': 97, '1028_SWD': 200, '1029_LEV': 200, '1030_ERA': 200, '1089_USCrime': 9, '1096_FacultySalaries': 10, '1191_BNG_pbc': 200000, '1193_BNG_lowbwt': 6220, '1196_BNG_pharynx': 200000, '1199_BNG_echoMonths': 3499, '1201_BNG_breastTumor': 23328, '192_vineyard': 10, '197_cpu_act': 1638, '201_pol': 3000, '210_cloud': 21, '215_2dplanes': 8153, '218_house_8L': 4556, '225_puma8NH': 1638, '227_cpu_small': 1638, '228_elusage': 11, '229_pwLinear': 40, '230_machine_cpu': 41, '294_satellite_image': 1287, '344_mv': 8153, '4544_GeographicalOriginalofMusic': 211, '485_analcatdata_vehicle': 9, '503_wind': 1314, '505_tecator': 48, '519_vinnie': 76, '522_pm10': 100, '523_analcatdata_neavote': 20, '527_analcatdata_election2000': 13, '529_pollen': 769, '537_houses': 4128, '542_pollution': 12, '547_no2': 100, '556_analcatdata_apnea2': 95, '557_analcatdata_apnea1': 95, '560_bodyfat': 50, '561_cpu': 41, '562_cpu_small': 1638, '564_fried': 8153, '573_cpu_act': 1638, '574_house_16H': 4556, '579_fri_c0_250_5': 50, '581_fri_c3_500_25': 100, '582_fri_c1_500_25': 100, '583_fri_c1_1000_50': 200, '584_fri_c4_500_25': 100, '586_fri_c3_1000_25': 200, '588_fri_c4_1000_100': 200, '589_fri_c2_1000_25': 200, '590_fri_c0_1000_50': 200, '591_fri_c1_100_10': 20, '592_fri_c4_1000_25': 200, '593_fri_c1_1000_10': 200, '594_fri_c2_100_5': 20, '595_fri_c0_1000_10': 200, '596_fri_c2_250_5': 50, '597_fri_c2_500_5': 100, '598_fri_c0_1000_25': 200, '599_fri_c2_1000_5': 200, '601_fri_c1_250_5': 50, '602_fri_c3_250_10': 50, '603_fri_c0_250_50': 50, '604_fri_c4_500_10': 100, '605_fri_c2_250_25': 50, '606_fri_c2_1000_10': 200, '607_fri_c4_1000_50': 200, '608_fri_c3_1000_10': 200, '609_fri_c0_1000_5': 200, '611_fri_c3_100_5': 20, '612_fri_c1_1000_5': 200, '613_fri_c3_250_5': 50, '615_fri_c4_250_10': 50, '616_fri_c4_500_50': 100, '617_fri_c3_500_5': 100, '618_fri_c3_1000_50': 200, '620_fri_c1_1000_25': 200, '621_fri_c0_100_10': 20, '622_fri_c2_1000_50': 200, '623_fri_c4_1000_10': 200, '624_fri_c0_100_5': 20, '626_fri_c2_500_50': 100, '627_fri_c2_500_10': 100, '628_fri_c3_1000_5': 200, '631_fri_c1_500_5': 100, '633_fri_c0_500_25': 100, '634_fri_c2_100_10': 20, '635_fri_c0_250_10': 50, '637_fri_c1_500_50': 100, '641_fri_c1_500_10': 100, '643_fri_c2_500_25': 100, '644_fri_c4_250_25': 50, '645_fri_c3_500_50': 100, '646_fri_c3_500_10': 100, '647_fri_c1_250_10': 50, '648_fri_c1_250_50': 50, '649_fri_c0_500_5': 100, '650_fri_c0_500_50': 100, '651_fri_c0_100_25': 20, '653_fri_c0_250_25': 50, '654_fri_c0_500_10': 100, '656_fri_c1_100_5': 20, '657_fri_c2_250_10': 50, '658_fri_c3_250_25': 50, '659_sleuth_ex1714': 9, '663_rabe_266': 24, '665_sleuth_case2002': 29, '666_rmftsa_ladata': 101, '678_visualizing_environmental': 22, '687_sleuth_ex1605': 12, '690_visualizing_galaxy': 64, '695_chatfield_4': 47, '706_sleuth_case1202': 18, '712_chscase_geyser1': 44, 'banana': 1060, 'titanic': 419}\n"
     ]
    }
   ],
   "source": [
    "from pmlb import regression_dataset_names, fetch_data\n",
    "\n",
    "# Create dictionary with dataset lengths\n",
    "dataset_lengths = {}\n",
    "for dataset_name in regression_dataset_names:\n",
    "    if dataset_name in data_list:\n",
    "        try:\n",
    "            print(dataset_name)\n",
    "            data = fetch_data(dataset_name, return_X_y=True)\n",
    "            X, y = data\n",
    "            dataset_lengths[dataset_name] = len(X)\n",
    "        except:\n",
    "            print(f\"Error for {dataset_name}\")\n",
    "\n",
    "# Multiply each length by 1/5 for 5-fold CV\n",
    "fold_sizes = {name: int(length * 1/5) for name, length in dataset_lengths.items()}\n",
    "\n",
    "print(fold_sizes)\n"
   ]
  },
  {
   "cell_type": "code",
   "execution_count": 52,
   "id": "490a5281",
   "metadata": {},
   "outputs": [],
   "source": [
    "df_long['weight'] = df_long['dataset'].map(fold_sizes)\n",
    "calib_df = df_long[df_long['metric'] == 'coverage'].copy()"
   ]
  },
  {
   "cell_type": "code",
   "execution_count": 53,
   "id": "c6c9e5c6",
   "metadata": {},
   "outputs": [
    {
     "name": "stdout",
     "output_type": "stream",
     "text": [
      "   tau           model  weighted_coverage_error\n",
      "0  0.5    DecisionTree                 0.079216\n",
      "1  0.5        LightGBM                 0.053235\n",
      "2  0.5  LinearQuantile                 0.044422\n",
      "3  0.5             SQR                 0.074561\n",
      "4  0.9    DecisionTree                 0.053654\n",
      "5  0.9        LightGBM                 0.032628\n",
      "6  0.9  LinearQuantile                 0.075400\n",
      "7  0.9             SQR                 0.029816\n"
     ]
    },
    {
     "name": "stderr",
     "output_type": "stream",
     "text": [
      "/var/folders/74/vwtt1gl561g84w722clplwrr0000gn/T/ipykernel_3219/1446565544.py:4: DeprecationWarning: DataFrameGroupBy.apply operated on the grouping columns. This behavior is deprecated, and in a future version of pandas the grouping columns will be excluded from the operation. Either pass `include_groups=False` to exclude the groupings or explicitly select the grouping columns after groupby to silence this warning.\n",
      "  .apply(lambda x: (x['value'] * x['weight']).sum() / x['weight'].sum())\n"
     ]
    }
   ],
   "source": [
    "weighted_avg = (\n",
    "    calib_df\n",
    "    .groupby(['tau', 'model'])\n",
    "    .apply(lambda x: (x['value'] * x['weight']).sum() / x['weight'].sum())\n",
    "    .reset_index(name='weighted_coverage_error')\n",
    ")\n",
    "\n",
    "print(weighted_avg)"
   ]
  },
  {
   "cell_type": "code",
   "execution_count": 54,
   "id": "559a029f",
   "metadata": {},
   "outputs": [
    {
     "name": "stdout",
     "output_type": "stream",
     "text": [
      "    tau           model    metric     value\n",
      "1   0.5    DecisionTree  coverage  0.087895\n",
      "5   0.5        LightGBM  coverage  0.064430\n",
      "10  0.5  LinearQuantile  coverage  0.065201\n",
      "15  0.5             SQR  coverage  0.082943\n",
      "20  0.9    DecisionTree  coverage  0.066118\n",
      "24  0.9        LightGBM  coverage  0.039402\n",
      "29  0.9  LinearQuantile  coverage  0.286541\n",
      "34  0.9             SQR  coverage  0.049139\n"
     ]
    }
   ],
   "source": [
    "print(avg_df[avg_df.metric == 'coverage'])"
   ]
  },
  {
   "cell_type": "code",
   "execution_count": 57,
   "id": "ec4e6551",
   "metadata": {},
   "outputs": [
    {
     "name": "stdout",
     "output_type": "stream",
     "text": [
      "    tau           model    metric        value\n",
      "3   0.5    DecisionTree  time_all     0.315487\n",
      "7   0.5        LightGBM  time_all     5.008716\n",
      "12  0.5  LinearQuantile  time_all    10.309813\n",
      "17  0.5             SQR  time_all  3299.124167\n",
      "22  0.9    DecisionTree  time_all     0.347780\n",
      "26  0.9        LightGBM  time_all     9.811793\n",
      "31  0.9  LinearQuantile  time_all    11.506157\n",
      "36  0.9             SQR  time_all  1906.944231\n"
     ]
    }
   ],
   "source": [
    "print(avg_df[avg_df.metric == 'time_all'])"
   ]
  },
  {
   "cell_type": "code",
   "execution_count": 58,
   "id": "771d7160",
   "metadata": {},
   "outputs": [
    {
     "name": "stdout",
     "output_type": "stream",
     "text": [
      "    tau           model    metric        value\n",
      "4   0.5    DecisionTree  time_fit     0.030239\n",
      "8   0.5        LightGBM  time_fit     0.580455\n",
      "13  0.5  LinearQuantile  time_fit     0.638731\n",
      "18  0.5             SQR  time_fit  3299.124167\n",
      "23  0.9    DecisionTree  time_fit     0.027797\n",
      "27  0.9        LightGBM  time_fit     2.427570\n",
      "32  0.9  LinearQuantile  time_fit     0.579071\n",
      "37  0.9             SQR  time_fit  1906.944231\n"
     ]
    }
   ],
   "source": [
    "print(avg_df[avg_df.metric == 'time_fit'])"
   ]
  },
  {
   "cell_type": "code",
   "execution_count": null,
   "id": "db28968c",
   "metadata": {},
   "outputs": [],
   "source": []
  }
 ],
 "metadata": {
  "kernelspec": {
   "display_name": "sqr-noversion",
   "language": "python",
   "name": "python3"
  },
  "language_info": {
   "codemirror_mode": {
    "name": "ipython",
    "version": 3
   },
   "file_extension": ".py",
   "mimetype": "text/x-python",
   "name": "python",
   "nbconvert_exporter": "python",
   "pygments_lexer": "ipython3",
   "version": "3.10.16"
  }
 },
 "nbformat": 4,
 "nbformat_minor": 5
}
